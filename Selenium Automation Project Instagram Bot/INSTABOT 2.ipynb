{
 "cells": [
  {
   "cell_type": "code",
   "execution_count": 1,
   "id": "7eebb7f0",
   "metadata": {},
   "outputs": [],
   "source": [
    "#importing the libraries\n",
    "from selenium import webdriver\n",
    "from selenium.webdriver.common.by import By\n",
    "from selenium.webdriver.support.wait import WebDriverWait\n",
    "from selenium.common.exceptions import NoSuchElementException, TimeoutException,ElementClickInterceptedException\n",
    "from selenium.webdriver.support import expected_conditions as EC\n",
    "import time\n",
    "from datetime import datetime,timedelta\n",
    "from collections import OrderedDict\n",
    "import matplotlib.pyplot as plt\n",
    "import numpy as np\n",
    "import pandas as pd\n",
    "%matplotlib inline"
   ]
  },
  {
   "cell_type": "code",
   "execution_count": 2,
   "id": "cd6d2bbc",
   "metadata": {},
   "outputs": [],
   "source": [
    "#accessing website\n",
    "url = \"https://www.instagram.com/\""
   ]
  },
  {
   "cell_type": "code",
   "execution_count": 3,
   "id": "f2fc052a",
   "metadata": {},
   "outputs": [],
   "source": [
    "#creating the driver for automation process\n",
    "driver = webdriver.Chrome()\n",
    "driver.maximize_window()\n",
    "driver.get(url)\n",
    "wait = WebDriverWait(driver,10)"
   ]
  },
  {
   "cell_type": "code",
   "execution_count": 4,
   "id": "549f755d",
   "metadata": {},
   "outputs": [],
   "source": [
    "#mentioning the username and password\n",
    "username = \"username\"\n",
    "password = \"password\""
   ]
  },
  {
   "cell_type": "markdown",
   "id": "61b3868a",
   "metadata": {},
   "source": [
    "# Login "
   ]
  },
  {
   "cell_type": "code",
   "execution_count": 5,
   "id": "e3553636",
   "metadata": {},
   "outputs": [],
   "source": [
    "def login(username,password):\n",
    "    try:\n",
    "        time.sleep(1)\n",
    "        driver.find_element(By.XPATH,\"//*[@id='loginForm']/div/div[1]/div/label/input\").send_keys(username)\n",
    "        driver.find_element(By.XPATH,\"//*[@id='loginForm']/div/div[2]/div/label/input\").send_keys(password)\n",
    "        driver.find_element(By.XPATH,\"//*[@id='loginForm']/div/div[3]\").click()\n",
    "        #Going through popups\n",
    "        pop = wait.until(EC.presence_of_element_located((By.XPATH,\".//div[(@class='_ac8f')]/div\")))\n",
    "        pop.click()\n",
    "        #closing the notification popup\n",
    "        notify = wait.until(EC.presence_of_element_located((By.XPATH,\".//div[(@class='_a9-z')]/button[2]\")))\n",
    "        notify.click()\n",
    "    except TimeoutException:\n",
    "        print(\"Something is Wrong\")"
   ]
  },
  {
   "cell_type": "code",
   "execution_count": 6,
   "id": "f83be751",
   "metadata": {},
   "outputs": [],
   "source": [
    "login(username,password)"
   ]
  },
  {
   "cell_type": "markdown",
   "id": "f1d778f9",
   "metadata": {},
   "source": [
    "## Getting profile name from search "
   ]
  },
  {
   "cell_type": "code",
   "execution_count": 7,
   "id": "a97a1359",
   "metadata": {},
   "outputs": [],
   "source": [
    "def search(s):\n",
    "    try:\n",
    "        #opening search box for search operation\n",
    "        time.sleep(3)\n",
    "        wait.until(EC.presence_of_element_located((By.PARTIAL_LINK_TEXT,\"Search\"))).click()\n",
    "        search = wait.until(EC.presence_of_element_located((By.XPATH,\".//div[(@class ='xjoudau x6s0dn4 x78zum5 xdt5ytf x1c4vz4f xs83m0k xrf2nzk x1n2onr6 xh8yej3 x1hq5gj4')]/input\")))\n",
    "        search.send_keys(s)\n",
    "        #extracting usernames\n",
    "        wait.until(EC.presence_of_element_located((By.XPATH,\".//div[(@class = 'x9f619 x1n2onr6 x1ja2u2z x78zum5 x1iyjqo2 xs83m0k xeuugli x1qughib x6s0dn4 x1a02dak x1q0g3np xdl72j9')]/div/div/div/span\")))\n",
    "        handel_name = driver.find_elements(By.XPATH,\".//div[(@class = 'x9f619 x1n2onr6 x1ja2u2z x78zum5 x1iyjqo2 xs83m0k xeuugli x1qughib x6s0dn4 x1a02dak x1q0g3np xdl72j9')]/div/div/div/span\")\n",
    "        names = []\n",
    "        for i in handel_name:\n",
    "            if i.text[0] != \"#\":\n",
    "                names.append(i.text.split('\\n')[0])\n",
    "        time.sleep(3)\n",
    "        driver.refresh()\n",
    "        return names\n",
    "    except TimeoutException:\n",
    "        print(\"Something is Wrong\")"
   ]
  },
  {
   "cell_type": "code",
   "execution_count": 8,
   "id": "17ff7850",
   "metadata": {},
   "outputs": [
    {
     "data": {
      "text/plain": [
       "['foodtalkindia',\n",
       " 'foodelhi',\n",
       " 'foodie_flatlay',\n",
       " 'foodiesince96',\n",
       " 'food_lunatic',\n",
       " 'foodklick',\n",
       " 'food',\n",
       " 'mumbaifoodjunkie',\n",
       " 'thelittlefoodjournal',\n",
       " 'littlefoodco',\n",
       " 'foodiee_ishh',\n",
       " 'pune_food_blogger',\n",
       " 'foodbellydelites',\n",
       " 'delicious_destination._',\n",
       " 'phorumpandya',\n",
       " 'foodiesdelhite',\n",
       " 'meghnasfoodmagic',\n",
       " 'foodie_incarnate',\n",
       " 'lifeofprachi._',\n",
       " 'foodalong',\n",
       " 'foodconnectindia',\n",
       " 'the_foodiediaries',\n",
       " 'delhi_food_shaukeen',\n",
       " 'eatlikeamaniac',\n",
       " 'whaaatislife',\n",
       " 'delishdirection',\n",
       " 'thepunefoodie',\n",
       " 'foodbabyny',\n",
       " 'thegrubjournal',\n",
       " 'yourfoodlab',\n",
       " 'food_feels',\n",
       " 'usa.explores',\n",
       " 'mumbaifoodie',\n",
       " 'foodiesofindia',\n",
       " 'tanviz_dream_oven',\n",
       " 'mccainfoods_india',\n",
       " 'hungry.backpackers',\n",
       " 'foodbloggerai',\n",
       " 'sahil_foodvlogs',\n",
       " 'divitya_dalwani',\n",
       " 'savorytales',\n",
       " 'delhifoodwalks',\n",
       " 'foodhallindia',\n",
       " 'tashasartisanfoods',\n",
       " 'being_a_food_vlogger_',\n",
       " 'mofpi_goi',\n",
       " 'maldives.explores',\n",
       " 'binjalsvegkitchen']"
      ]
     },
     "execution_count": 8,
     "metadata": {},
     "output_type": "execute_result"
    }
   ],
   "source": [
    "#searching for profile with food in there name\n",
    "search('food')"
   ]
  },
  {
   "cell_type": "markdown",
   "id": "1669f994",
   "metadata": {},
   "source": [
    "# Searching and opening the profile"
   ]
  },
  {
   "cell_type": "markdown",
   "id": "ded1e5a8",
   "metadata": {},
   "source": [
    "##### we will use this function later inside other function for there process."
   ]
  },
  {
   "cell_type": "code",
   "execution_count": 9,
   "id": "e66377ab",
   "metadata": {},
   "outputs": [],
   "source": [
    "def search_open(s):\n",
    "    try:\n",
    "        #locating Search Box and Sending text for the search\n",
    "        wait.until(EC.presence_of_element_located((By.PARTIAL_LINK_TEXT,\"Search\"))).click()\n",
    "        search = wait.until(EC.presence_of_element_located((By.XPATH,\".//div[(@class ='xjoudau x6s0dn4 x78zum5 xdt5ytf x1c4vz4f xs83m0k xrf2nzk x1n2onr6 xh8yej3 x1hq5gj4')]/input\")))\n",
    "        search.send_keys(s)\n",
    "        \n",
    "        #Checking the result\n",
    "        result = wait.until(EC.presence_of_element_located((By.XPATH,\".//div[@class = 'x9f619 x78zum5 xdt5ytf x1iyjqo2 x6ikm8r x1odjw0f xh8yej3 xocp1fn']/a\")))\n",
    "        result.click()\n",
    "        \n",
    "        time.sleep(5)\n",
    "    except TimeoutException:\n",
    "        print('Something Wrong with the search and open OP')"
   ]
  },
  {
   "cell_type": "markdown",
   "id": "15c21031",
   "metadata": {},
   "source": [
    "# 1. Now your friend has followed a lot of different food bloggers, he needs to analyse the habits of these bloggers."
   ]
  },
  {
   "cell_type": "markdown",
   "id": "2170d331",
   "metadata": {},
   "source": [
    "###### 1. From the list of instagram handles you obtained when you searched 'food' in previous project. Open the first 10 handles and find the top 5 which have the highest number of followers"
   ]
  },
  {
   "cell_type": "code",
   "execution_count": 10,
   "id": "4c91326b",
   "metadata": {},
   "outputs": [],
   "source": [
    "#first 10 profile from the search \n",
    "handles = ['foodtalkindia','foodie_flatlay','foodelhi','fooodie_punjabi','thelittlefoodjournal','food_lunatic','food','foodiesince96','foodklick','mumbaifoodjunkie']"
   ]
  },
  {
   "cell_type": "code",
   "execution_count": 11,
   "id": "7d758467",
   "metadata": {},
   "outputs": [],
   "source": [
    "#function for getting top 5 handle which have highest number of followers\n",
    "def top_handle(lst):\n",
    "    try:\n",
    "        #creating a Dictionary that will contain the profile name and the No. of Folowers\n",
    "        dct = {}\n",
    "        for i in lst:\n",
    "            time.sleep(2)\n",
    "            search_open(i)\n",
    "            \n",
    "           #getting the follow count \n",
    "            followers_val_count = wait.until(EC.presence_of_element_located((By.XPATH,\".//li[@class ='xl565be x1m39q7l x1uw6ca5 x2pgyrj']/div/a/span\")))\n",
    "            dct[i] = int(followers_val_count.get_attribute('title').replace(',' , ''))\n",
    "        #top 5 most followed followers being sorted here\n",
    "        sorted_handles = OrderedDict(sorted(dct.items(), key=lambda item: item[1], reverse=True)[:5])\n",
    "        \n",
    "        return sorted_handles\n",
    "    except TimeoutException:\n",
    "        print(\"Timeout, TRY AGAIN\")   "
   ]
  },
  {
   "cell_type": "code",
   "execution_count": 12,
   "id": "8a37ea52",
   "metadata": {},
   "outputs": [],
   "source": [
    "#storing the names of handle in a variable\n",
    "top_handle = top_handle(handles)"
   ]
  },
  {
   "cell_type": "code",
   "execution_count": 13,
   "id": "970982d4",
   "metadata": {},
   "outputs": [
    {
     "name": "stdout",
     "output_type": "stream",
     "text": [
      "Top 5 Instagram handles which have the highest number of followers:\n",
      "foodklick -> 371963\n",
      "foodiesince96 -> 339092\n",
      "foodtalkindia -> 308762\n",
      "food -> 308762\n",
      "foodelhi -> 252841\n"
     ]
    }
   ],
   "source": [
    "print('Top 5 Instagram handles which have the highest number of followers:')\n",
    "for user_name, follower_count in top_handle.items():\n",
    "    print(f\"{user_name} -> {follower_count}\")"
   ]
  },
  {
   "cell_type": "markdown",
   "id": "f96ee283",
   "metadata": {},
   "source": [
    "##### 2. Now Find the number of posts these handles have done in the previous 3 days."
   ]
  },
  {
   "cell_type": "code",
   "execution_count": 14,
   "id": "0473a768",
   "metadata": {},
   "outputs": [],
   "source": [
    "#This function will return the count of post posted by the user in past 3 days\n",
    "def count_of_post(day):\n",
    "    try:\n",
    "        #locating the first Post\n",
    "        driver.execute_script('window.scrollTo(0,document.body.scrollHeight);')\n",
    "        time.sleep(2)\n",
    "        driver.execute_script('window.scrollTo(0,document.body.scrollTop);')\n",
    "        time.sleep(2)\n",
    "        post = driver.find_element(By.CLASS_NAME,\"_aagu\")\n",
    "        post.click()\n",
    "        count = 0\n",
    "        \n",
    "        while True:\n",
    "            #Getting info of the posted media\n",
    "            info = driver.find_element(By.CLASS_NAME,\"x1p4m5qa\")\n",
    "            \n",
    "            #getting the date in string format\n",
    "            date_string = info.get_attribute('datetime')\n",
    "            \n",
    "            #converting the date into acceptable format for anaylsis\n",
    "            \n",
    "            date = datetime.strptime(date_string[0:19],\"%Y-%m-%dT%H:%M:%S\")\n",
    "            \n",
    "            #calculating the Diffrence in posted date and current date\n",
    "            \n",
    "            if (datetime.now()-date).days>day:\n",
    "                break\n",
    "            else:\n",
    "                count += 1\n",
    "            #locating next button\n",
    "            time.sleep(1)\n",
    "            next_button = wait.until(EC.presence_of_element_located((By.XPATH,\".//div[@class = ' _aaqg _aaqh']\")))\n",
    "            next_button.click()\n",
    "        #closing the post \n",
    "        time.sleep(1)\n",
    "        close_post = driver.find_element(By.XPATH,\".//div[@class ='x160vmok x10l6tqk x1eu8d0j x1vjfegm']/div\")\n",
    "        close_post.click()\n",
    "        return count\n",
    "    except TimeoutException:\n",
    "        print(\"Timeout, TRY AGAIN...\")"
   ]
  },
  {
   "cell_type": "code",
   "execution_count": 15,
   "id": "3bfc0058",
   "metadata": {},
   "outputs": [],
   "source": [
    "total_post_count = {}\n",
    "for i in top_handle :\n",
    "    time.sleep(3)\n",
    "    search_open(i)\n",
    "    count = count_of_post(3)\n",
    "    total_post_count[i] = count"
   ]
  },
  {
   "cell_type": "code",
   "execution_count": 16,
   "id": "2dd4876e",
   "metadata": {},
   "outputs": [
    {
     "name": "stdout",
     "output_type": "stream",
     "text": [
      "Number of posts these handles have done in the previous 3 days : -\n",
      "foodklick 0\n",
      "foodiesince96 4\n",
      "foodtalkindia 2\n",
      "food 2\n",
      "foodelhi 0\n"
     ]
    }
   ],
   "source": [
    "print('Number of posts these handles have done in the previous 3 days : -')\n",
    "for i in total_post_count:\n",
    "    print(i,total_post_count[i])"
   ]
  },
  {
   "cell_type": "markdown",
   "id": "c14f071b",
   "metadata": {},
   "source": [
    "##### 3. Depict this information using a suitable graph."
   ]
  },
  {
   "cell_type": "code",
   "execution_count": 17,
   "id": "dba090db",
   "metadata": {},
   "outputs": [
    {
     "data": {
      "image/png": "[encoded data removed]",
      "text/plain": [
       "<Figure size 640x480 with 1 Axes>"
      ]
     },
     "metadata": {},
     "output_type": "display_data"
    }
   ],
   "source": [
    "# using total_post_count to get username and number of post\n",
    "x = total_post_count.keys()\n",
    "y = total_post_count.values()\n",
    "plt.bar(x,y,color='grey',alpha=0.6)\n",
    "plt.ylabel(\"Number of posts in the previous 3 days\",size=10)\n",
    "plt.xlabel(\"Username\",size=10)\n",
    "plt.title('Most Followed user vs Number of recent posts ',fontsize=20, color='purple',alpha=0.8)\n",
    "plt.grid()\n",
    "plt.show()"
   ]
  },
  {
   "cell_type": "markdown",
   "id": "f1bd19eb",
   "metadata": {},
   "source": [
    "# 2. Your friend also needs a list of hashtags that he should use in his posts. "
   ]
  },
  {
   "cell_type": "markdown",
   "id": "d9b3fabe",
   "metadata": {},
   "source": [
    "##### 1. Open the 5 handles you obtained in the last question, and scrape the content of the first 10 posts of each handle."
   ]
  },
  {
   "cell_type": "code",
   "execution_count": 18,
   "id": "080a64f7",
   "metadata": {},
   "outputs": [],
   "source": [
    "def extract_contents(lst):\n",
    "    try:\n",
    "        hashtag_list = []\n",
    "        for users in lst:\n",
    "            search_open(users)\n",
    "            time.sleep(1)\n",
    "            #scrolling the page to get the view\n",
    "            driver.execute_script('window.scrollTo(0,document.body.scrollHeight);')\n",
    "            time.sleep(1)\n",
    "            driver.execute_script('window.scrollTo(0,document.body.scrollTop);')\n",
    "            time.sleep(1)\n",
    "            \n",
    "            #locating the post of the user\n",
    "            post = wait.until(EC.presence_of_all_elements_located((By.CLASS_NAME,\"_aagu\")))\n",
    "            for i in post[:10]:\n",
    "                i.click()\n",
    "                time.sleep(2)\n",
    "                #locating all the hashtag used in the post of the posted media\n",
    "                hashtag = driver.find_elements(By.XPATH,\".//a[@class ='x1i10hfl xjbqb8w x1ejq31n xd10rxx x1sy0etr x17r0tee x972fbf xcfux6l x1qhh985 xm0m39n x9f619 x1ypdohk xt0psk2 xe8uvvx xdj266r x11i5rnm xat24cr x1mh8g0r xexx8yu x4uap5 x18d9i69 xkhd6sd x16tdsg8 x1hl2dhg xggy1nq x1a2a7pz  _aa9_ _a6hd']\")\n",
    "                for tagname in hashtag:\n",
    "                    hashtag_list.append(tagname.text)\n",
    "                    \n",
    "                #locating the close button\n",
    "                time.sleep(1)\n",
    "                wait.until(EC.presence_of_element_located((By.XPATH,\"/html/body/div[8]/div[1]/div/div[2]\"))).click()\n",
    "        return hashtag_list\n",
    "    except TimeoutException:\n",
    "        print(\"Timeout....TRY AGAIN\")"
   ]
  },
  {
   "cell_type": "code",
   "execution_count": 19,
   "id": "e5ce30e9",
   "metadata": {},
   "outputs": [],
   "source": [
    "handles = list(total_post_count.keys())\n",
    "hashtags = extract_contents(handles)"
   ]
  },
  {
   "cell_type": "code",
   "execution_count": 20,
   "id": "9d78fdff",
   "metadata": {
    "scrolled": true
   },
   "outputs": [
    {
     "name": "stdout",
     "output_type": "stream",
     "text": [
      "['#chilli', '#garlic', '#paneer', '#paratha', '#spicy', '#chutney', '#soulfood', '#thali', '#reels', '#reelitfeelit', '#foodreels', '#reelsexplore', '#indianfood', '#tasty', '#desikhana', '#recipe', '#easyrecipes', '#tiffinideas', '#breakfast', '#kidsrecipes', '#food', '#foodbloggers', '#tasteofindia', '#foodreelsinindia', '#lunchideas', '#desifood', '#trending', '#reelvideo', '#chilli', '#tomato', '#spicy', '#dhaniya', '#tamatar', '#chutney', '#paratha', '#soulfood', '#thali', '#reels', '#reelitfeelit', '#foodreels', '#reelsexplore', '#indianfood', '#tasty', '#desikhana', '#bihari', '#food', '#foodbloggers', '#tasteofindia', '#foodreelsinindia', '#lunchideas', '#desifood', '#trending', '#reelvideo', '#angoor', '#grapes', '#panipuri', '#golgappe', '#comfortfood', '#streetfood', '#tangy', '#reels', '#spicy', '#reelitfeelit', '#summer', '#foodreels', '#reelsexplore', '#indianfood', '#foodporn', '#tasty', '#desikhana', '#homemade', '#dalchawal', '#foodbloggers', '#desikhana', '#tasteofindia', '#puchka', '#foodreelsinindia', '#lunchideas', '#desifood', '#trending', '#reelvideo', '#lassoni', '#dahi', '#tadka', '#punjabi', '#rice', '#food', '#trending', '#dal', '#chawhal', '#achaar', '#comfortfood', '#soulfood', '#thali', '#reels', '#reelitfeelit', '#foodreels', '#tasty', '#curd', '#easyrecipe', '#indianfood', '#tasty', '#recipe', '#desikhana', '#foodbloggers', '#healthy', '#foodporn', '#lunchideas', '#desifood', '#reelvideo', '#ricebowl', '#yoghurt', '#cheese', '#garlic', '#bread', '#foodreels', '#reels', '#instagood', '#cheesy', '#foodstagram', '#reelsinstagram', '#reelitfeelit', '#loaf', '#garlicbread', '#butter', '#crispy', '#foodporn', '#foodblogger', '#sourdough', '#sourdoughbread', '#tasty', '#trending', '#viral', '#foodie', '#foodlover', '#foodstyling', '#palak', '#punjabi', '#kadhi', '#rice', '#food', '#trending', '#dal', '#chawhal', '#papad', '#achaar', '#salad', '#comfortfood', '#soulfood', '#thali', '#reels', '#reelitfeelit', '#foodreels', '#asmr', '#indianfood', '#tasty', '#recipe', '#desikhana', '#foodbloggers', '#healthy', '#vegan', '#foodporn', '#lunchideas', '#desifood', '#reelvideo', '#ricebowl', '#dalkhichdi', '#khichdi', '#favourite', '#food', '#trending', '#dal', '#chawhal', '#papad', '#achaar', '#salad', '#comfortfood', '#soulfood', '#thali', '#reels', '#reelitfeelit', '#foodreels', '#asmr', '#indianfood', '#tasty', '#recipe', '#desikhana', '#foodbloggers', '#healthy', '#vegan', '#foodporn', '#lunchideas', '#desifood', '#reelvideo', '#ricebowl', '#tomato', '#bhorta', '#chawhal', '#bhaja', '#potol', '#comfortfood', '#soulfood', '#thali', '#reels', '#reelitfeelit', '#foodreels', '#reelsexplore', '#indianfood', '#tasty', '#viral', '#recipe', '#desikhana', '#food', '#bengalifood', '#healthy', '#vegan', '#yum', '#foodporn', '#foodreelsinindia', '#lunchideas', '#desifood', '#trending', '#reelvideo', '#ricebowl', '#chiragpaswan', '#favourite', '#food', '#trending', '#dal', '#chawhal', '#papad', '#achaar', '#salad', '#comfortfood', '#soulfood', '#thali', '#reels', '#reelitfeelit', '#foodreels', '#indianfood', '#tasty', '#viral', '#recipe', '#desikhana', '#food', '#foodbloggers', '#healthy', '#vegan', '#yum', '#foodporn', '#lunchideas', '#desifood', '#reelvideo', '#ricebowl', '#dal', '#chawhal', '#khichdi', '#papad', '#achaar', '#salad', '#comfortfood', '#soulfood', '#thali', '#reels', '#reelitfeelit', '#foodreels', '#reelsexplore', '#indianfood', '#tasty', '#viral', '#recipe', '#desikhana', '#food', '#foodbloggers', '#healthy', '#vegan', '#yum', '#foodporn', '#foodreelsinindia', '#lunchideas', '#desifood', '#trending', '#reelvideo', '#ricebowl', '#AtoZofrestaurantswithM', '#vegetarian', '#tasty', '#yummy', '#best', '#foodie', '#foodiesince96', '#delhi', '#foodblogger', '#AtoZofrestaurantswithM', '#foodie', '#foodiesince96', '#sushi', '#pizza', '#asian', '#tasty', '#yummy', '#KFCIndia', '#KFCLove', '#Collab', '#foodiesince96', '#happy', '#chicken', '#best', '#yum', '#foodie', '#crispy', '#foodie', '#foodiesince96', '#fodoblogger', '#foodie', '#tasty', '#yummy', '#best', '#pizza', '#pizzatime', '#foodiesince96', '#tasty', '#yummy', '#foodie', '#cheese', '#fresh', '#buffet', '#delhi', '#unlimited', '#foodie', '#chicken', '#best', '#yum', '#foodiesince96', '#momo', '#momolove', '#tasty', '#yummy', '#tasty', '#streetfood', '#indianfood', '#ChabeelDay', '#RoohAfza', '#RefreshingTraditions', '#Raunak', '#ChabeelSewa', '#Chabeel', '#RaunakRoohAfzaSe', '#RoohAfza', '#DrinkOfIndia', '#ShaheediDiwas', '#foodiesince96', '#ad', '#Hamdard', '#cafe', '#tasty', '#yummy', '#foodie', '#foodiesince96', '#foodiesince96travels', '#best', '#sushi', '#dimsum', '#finedine', '#chinese', '#dinner', '#meal', '#flavours', '#foodie', '#foodiesince96', '#finedine', '#dimsum', '#noodles', '#chicken', '#NewInTown', '#AGlassOfWorldClass', '#Drinks', '#Bars', '#BestBars', '#BestDrinks', '#Eateries', '#GreaterKailash', '#Delhi', '#GreaterKailash', '#Eateries', '#Food', '#Drinks', '#FoodTalkIndia', '#Delhi', '#NewInTown', '#NewInTown', '#WorldClassCocktailFestival', '#MakeItWorldClass', '#WorldClass', '#WorldClassIN', '#WorldClass2024', '#WorldClassIndia', '#AGlassOfWorldClass', '#DelhiBakeries', '#OGBakeries', '#Patties', '#Pastries', '#Cakes', '#Puff', '#FoodTalkIndia', '#NewInTown', '#AGlassOfWorldClass', '#Drinks', '#Bars', '#BestBars', '#BestDrinks', '#Eateries', '#GreaterKailash', '#Delhi', '#GreaterKailash', '#Eateries', '#Food', '#Drinks', '#FoodTalkIndia', '#Delhi', '#NewInTown', '#NewInTown', '#WorldClassCocktailFestival', '#MakeItWorldClass', '#WorldClass', '#WorldClassIN', '#WorldClass2024', '#WorldClassIndia', '#AGlassOfWorldClass', '#DelhiBakeries', '#OGBakeries', '#Patties', '#Pastries', '#Cakes', '#Puff', '#FoodTalkIndia', '#Foodelhi', '#FoodelhiInThailand', '#foodelhi', '#CheesyCheersto2000th', '#dominosindia', '#Dominos2000RestarauntsInIndia', '#foodelhi', '#YouTheRealInfluencer', '#foodelhi', '#Foodelhi', '#foodelhi', '#Foodelhi', '#FoodelhiInMalaysia']\n"
     ]
    }
   ],
   "source": [
    "print(hashtags)"
   ]
  },
  {
   "cell_type": "markdown",
   "id": "df77db80",
   "metadata": {},
   "source": [
    "##### 2. Prepare a list of all words used in all the scraped posts and calculate the frequency of each word."
   ]
  },
  {
   "cell_type": "code",
   "execution_count": 21,
   "id": "4c0b4b28",
   "metadata": {},
   "outputs": [
    {
     "name": "stdout",
     "output_type": "stream",
     "text": [
      "#tasty 18\n",
      "#reels 10\n",
      "#reelitfeelit 10\n",
      "#foodreels 10\n",
      "#indianfood 10\n",
      "#desikhana 10\n",
      "#trending 10\n",
      "#foodie 10\n",
      "#food 9\n",
      "#lunchideas 9\n",
      "#desifood 9\n",
      "#reelvideo 9\n",
      "#foodiesince96 9\n",
      "#soulfood 8\n",
      "#thali 8\n",
      "#foodbloggers 8\n",
      "#foodporn 8\n",
      "#recipe 7\n",
      "#comfortfood 7\n",
      "#chawhal 6\n",
      "#healthy 6\n",
      "#ricebowl 6\n",
      "#yummy 6\n",
      "#NewInTown 6\n",
      "#reelsexplore 5\n",
      "#foodreelsinindia 5\n",
      "#dal 5\n",
      "#achaar 5\n",
      "#vegan 5\n",
      "#yum 5\n",
      "#best 5\n",
      "#viral 4\n",
      "#papad 4\n",
      "#salad 4\n",
      "#AGlassOfWorldClass 4\n",
      "#Drinks 4\n",
      "#Eateries 4\n",
      "#GreaterKailash 4\n",
      "#Delhi 4\n",
      "#FoodTalkIndia 4\n",
      "#foodelhi 4\n",
      "#spicy 3\n",
      "#tasteofindia 3\n",
      "#chicken 3\n",
      "#Foodelhi 3\n",
      "#chilli 2\n",
      "#garlic 2\n",
      "#paratha 2\n",
      "#chutney 2\n",
      "#tomato 2\n",
      "#streetfood 2\n",
      "#punjabi 2\n",
      "#rice 2\n",
      "#cheese 2\n",
      "#crispy 2\n",
      "#foodblogger 2\n",
      "#asmr 2\n",
      "#khichdi 2\n",
      "#favourite 2\n",
      "#AtoZofrestaurantswithM 2\n",
      "#delhi 2\n",
      "#sushi 2\n",
      "#pizza 2\n",
      "#RoohAfza 2\n",
      "#dimsum 2\n",
      "#finedine 2\n",
      "#Bars 2\n",
      "#BestBars 2\n",
      "#BestDrinks 2\n",
      "#Food 2\n",
      "#WorldClassCocktailFestival 2\n",
      "#MakeItWorldClass 2\n",
      "#WorldClass 2\n",
      "#WorldClassIN 2\n",
      "#WorldClass2024 2\n",
      "#WorldClassIndia 2\n",
      "#DelhiBakeries 2\n",
      "#OGBakeries 2\n",
      "#Patties 2\n",
      "#Pastries 2\n",
      "#Cakes 2\n",
      "#Puff 2\n",
      "#paneer 1\n",
      "#easyrecipes 1\n",
      "#tiffinideas 1\n",
      "#breakfast 1\n",
      "#kidsrecipes 1\n",
      "#dhaniya 1\n",
      "#tamatar 1\n",
      "#bihari 1\n",
      "#angoor 1\n",
      "#grapes 1\n",
      "#panipuri 1\n",
      "#golgappe 1\n",
      "#tangy 1\n",
      "#summer 1\n",
      "#homemade 1\n",
      "#dalchawal 1\n",
      "#puchka 1\n",
      "#lassoni 1\n",
      "#dahi 1\n",
      "#tadka 1\n",
      "#curd 1\n",
      "#easyrecipe 1\n",
      "#yoghurt 1\n",
      "#bread 1\n",
      "#instagood 1\n",
      "#cheesy 1\n",
      "#foodstagram 1\n",
      "#reelsinstagram 1\n",
      "#loaf 1\n",
      "#garlicbread 1\n",
      "#butter 1\n",
      "#sourdough 1\n",
      "#sourdoughbread 1\n",
      "#foodlover 1\n",
      "#foodstyling 1\n",
      "#palak 1\n",
      "#kadhi 1\n",
      "#dalkhichdi 1\n",
      "#bhorta 1\n",
      "#bhaja 1\n",
      "#potol 1\n",
      "#bengalifood 1\n",
      "#chiragpaswan 1\n",
      "#vegetarian 1\n",
      "#asian 1\n",
      "#KFCIndia 1\n",
      "#KFCLove 1\n",
      "#Collab 1\n",
      "#happy 1\n",
      "#fodoblogger 1\n",
      "#pizzatime 1\n",
      "#fresh 1\n",
      "#buffet 1\n",
      "#unlimited 1\n",
      "#momo 1\n",
      "#momolove 1\n",
      "#ChabeelDay 1\n",
      "#RefreshingTraditions 1\n",
      "#Raunak 1\n",
      "#ChabeelSewa 1\n",
      "#Chabeel 1\n",
      "#RaunakRoohAfzaSe 1\n",
      "#DrinkOfIndia 1\n",
      "#ShaheediDiwas 1\n",
      "#ad 1\n",
      "#Hamdard 1\n",
      "#cafe 1\n",
      "#foodiesince96travels 1\n",
      "#chinese 1\n",
      "#dinner 1\n",
      "#meal 1\n",
      "#flavours 1\n",
      "#noodles 1\n",
      "#FoodelhiInThailand 1\n",
      "#CheesyCheersto2000th 1\n",
      "#dominosindia 1\n",
      "#Dominos2000RestarauntsInIndia 1\n",
      "#YouTheRealInfluencer 1\n",
      "#FoodelhiInMalaysia 1\n"
     ]
    }
   ],
   "source": [
    "dct = {}\n",
    "words_list = []\n",
    "for word in hashtags:\n",
    "    dct[word] = dct.get(word,0) + 1\n",
    "    \n",
    "for i in sorted(dct, key=dct.get, reverse=True):\n",
    "    words_list.append([i,dct[i]])\n",
    "    print(i,dct[i])"
   ]
  },
  {
   "cell_type": "markdown",
   "id": "9ddc602d",
   "metadata": {},
   "source": [
    "##### 3. Create a csv file with two columns : the word and its frequency"
   ]
  },
  {
   "cell_type": "code",
   "execution_count": 22,
   "id": "974ca43c",
   "metadata": {
    "scrolled": true
   },
   "outputs": [
    {
     "data": {
      "text/html": [
       "<div>\n",
       "<style scoped>\n",
       "    .dataframe tbody tr th:only-of-type {\n",
       "        vertical-align: middle;\n",
       "    }\n",
       "\n",
       "    .dataframe tbody tr th {\n",
       "        vertical-align: top;\n",
       "    }\n",
       "\n",
       "    .dataframe thead th {\n",
       "        text-align: right;\n",
       "    }\n",
       "</style>\n",
       "<table border=\"1\" class=\"dataframe\">\n",
       "  <thead>\n",
       "    <tr style=\"text-align: right;\">\n",
       "      <th></th>\n",
       "      <th>Word</th>\n",
       "      <th>Frequency</th>\n",
       "    </tr>\n",
       "  </thead>\n",
       "  <tbody>\n",
       "    <tr>\n",
       "      <th>0</th>\n",
       "      <td>#tasty</td>\n",
       "      <td>18</td>\n",
       "    </tr>\n",
       "    <tr>\n",
       "      <th>1</th>\n",
       "      <td>#reels</td>\n",
       "      <td>10</td>\n",
       "    </tr>\n",
       "    <tr>\n",
       "      <th>2</th>\n",
       "      <td>#reelitfeelit</td>\n",
       "      <td>10</td>\n",
       "    </tr>\n",
       "    <tr>\n",
       "      <th>3</th>\n",
       "      <td>#foodreels</td>\n",
       "      <td>10</td>\n",
       "    </tr>\n",
       "    <tr>\n",
       "      <th>4</th>\n",
       "      <td>#indianfood</td>\n",
       "      <td>10</td>\n",
       "    </tr>\n",
       "    <tr>\n",
       "      <th>5</th>\n",
       "      <td>#desikhana</td>\n",
       "      <td>10</td>\n",
       "    </tr>\n",
       "    <tr>\n",
       "      <th>6</th>\n",
       "      <td>#trending</td>\n",
       "      <td>10</td>\n",
       "    </tr>\n",
       "    <tr>\n",
       "      <th>7</th>\n",
       "      <td>#foodie</td>\n",
       "      <td>10</td>\n",
       "    </tr>\n",
       "    <tr>\n",
       "      <th>8</th>\n",
       "      <td>#food</td>\n",
       "      <td>9</td>\n",
       "    </tr>\n",
       "    <tr>\n",
       "      <th>9</th>\n",
       "      <td>#lunchideas</td>\n",
       "      <td>9</td>\n",
       "    </tr>\n",
       "  </tbody>\n",
       "</table>\n",
       "</div>"
      ],
      "text/plain": [
       "            Word  Frequency\n",
       "0         #tasty         18\n",
       "1         #reels         10\n",
       "2  #reelitfeelit         10\n",
       "3     #foodreels         10\n",
       "4    #indianfood         10\n",
       "5     #desikhana         10\n",
       "6      #trending         10\n",
       "7        #foodie         10\n",
       "8          #food          9\n",
       "9    #lunchideas          9"
      ]
     },
     "execution_count": 22,
     "metadata": {},
     "output_type": "execute_result"
    }
   ],
   "source": [
    "df = pd.DataFrame(words_list,columns = ['Word','Frequency'])\n",
    "#using .to_csv inbuilt pandas function for converting dataframe to csv & saving the csv file with data\n",
    "df.to_csv(r'word_frequency.csv',index = False)\n",
    "df.head(10)"
   ]
  },
  {
   "cell_type": "markdown",
   "id": "f6a1f759",
   "metadata": {},
   "source": [
    "##### 4. Now, find the hashtags that were most popular among these bloggers"
   ]
  },
  {
   "cell_type": "code",
   "execution_count": 23,
   "id": "0bebe41b",
   "metadata": {
    "scrolled": true
   },
   "outputs": [
    {
     "name": "stdout",
     "output_type": "stream",
     "text": [
      "#tasty\n"
     ]
    }
   ],
   "source": [
    "print(words_list[0][0])"
   ]
  },
  {
   "cell_type": "markdown",
   "id": "ee171635",
   "metadata": {},
   "source": [
    "###### 5. Plot a Pie Chart of the top 5 hashtags obtained and the number of times they were used by these bloggers in the scraped posts."
   ]
  },
  {
   "cell_type": "code",
   "execution_count": 24,
   "id": "c4aece45",
   "metadata": {},
   "outputs": [
    {
     "data": {
      "image/png": "[encoded data removed]",
      "text/plain": [
       "<Figure size 1200x600 with 1 Axes>"
      ]
     },
     "metadata": {},
     "output_type": "display_data"
    }
   ],
   "source": [
    "#using answer of problem 2.2\n",
    "hashtag_name = [words_list[0][0],words_list[1][0],words_list[2][0],words_list[3][0],words_list[4][0]]\n",
    "count = [words_list[0][1],words_list[1][1],words_list[2][1],words_list[3][1],words_list[4][1]]\n",
    "plt.figure(figsize=(12,6))\n",
    "plt.pie(count,labels=hashtag_name,autopct='%0.2f%%',radius=1,counterclock=False,startangle=100)\n",
    "plt.title('Top 5 Hashtags used by bloggers ',fontsize=20, color='green',alpha=0.8)\n",
    "plt.show()"
   ]
  },
  {
   "cell_type": "markdown",
   "id": "f670190c",
   "metadata": {},
   "source": [
    "# 3. You need to also calculate average followers : likes ratio for the obtained handles.\n",
    "Followers : Likes ratio is calculated as follows:\n",
    "1. Finding out the number of likes of the top 10 posts of the 5 handles obtained earlier."
   ]
  },
  {
   "cell_type": "code",
   "execution_count": 25,
   "id": "bd0e2634",
   "metadata": {},
   "outputs": [],
   "source": [
    "def get_likes(user):\n",
    "    try:\n",
    "        likes = []\n",
    "        #using this function to search and open the profile of the user\n",
    "        search_open(user)\n",
    "        time.sleep(1)\n",
    "        \n",
    "        #scrolling the page to get the post in the view range for further process\n",
    "        driver.execute_script(\"window.scrollTo(0,document.body.scrollHeight);\")\n",
    "        time.sleep(1)\n",
    "        driver.execute_script(\"window.scrollTo(0,document.body.scrollTop);\")\n",
    "        time.sleep(1)\n",
    "        \n",
    "        #locating the post of the user\n",
    "        posts = wait.until(EC.presence_of_all_elements_located((By.CLASS_NAME,\"_aagu\")))\n",
    "        for i in posts[:10]:\n",
    "            i.click()\n",
    "            time.sleep(1)\n",
    "            try:\n",
    "                like = driver.find_element(By.XPATH,\".//section[@class ='x12nagc x182iqb8 x1pi30zi x1swvt13']/div/div/span/a/span/span\")\n",
    "                no_of_likes = (like.text).replace(\",\",\"\")\n",
    "                likes.append(int(no_of_likes))\n",
    "                time.sleep(1)\n",
    "            #if any post has there likes hidden then we will mention 1 in place of like value so we can continue with function.\n",
    "            except NoSuchElementException :\n",
    "                #appending the value of likes as 1 so we can get the average for like to follow ratio without error\n",
    "                likes.append(int(1))\n",
    "                time.sleep(1)\n",
    "            except ElementClickInterceptedException as e:\n",
    "                print(e)\n",
    "            finally:\n",
    "                #locating the close button\n",
    "                time.sleep(1)\n",
    "                wait.until(EC.presence_of_element_located((By.XPATH,\"/html/body/div[8]/div[1]/div/div[2]\"))).click()\n",
    "                time.sleep(1)\n",
    "        return likes\n",
    "    except TimeoutException as e:\n",
    "        print(e)"
   ]
  },
  {
   "cell_type": "code",
   "execution_count": 26,
   "id": "2afeab7f",
   "metadata": {
    "scrolled": true
   },
   "outputs": [
    {
     "name": "stdout",
     "output_type": "stream",
     "text": [
      "Number of likes of the top 10 posts of foodklick :\n",
      "24563 Likes\n",
      "93016 Likes\n",
      "136241 Likes\n",
      "421 Likes\n",
      "787 Likes\n",
      "3102 Likes\n",
      "4657 Likes\n",
      "2604 Likes\n",
      "6999 Likes\n",
      "3897 Likes\n",
      "\n",
      "Number of likes of the top 10 posts of foodiesince96 :\n",
      "1 Likes\n",
      "1 Likes\n",
      "1 Likes\n",
      "1 Likes\n",
      "1 Likes\n",
      "1 Likes\n",
      "1 Likes\n",
      "1 Likes\n",
      "1 Likes\n",
      "1 Likes\n",
      "\n",
      "Number of likes of the top 10 posts of foodtalkindia :\n",
      "46 Likes\n",
      "53 Likes\n",
      "34 Likes\n",
      "137 Likes\n",
      "225 Likes\n",
      "7122 Likes\n",
      "67 Likes\n",
      "72 Likes\n",
      "48 Likes\n",
      "233 Likes\n",
      "\n",
      "Number of likes of the top 10 posts of food :\n",
      "46 Likes\n",
      "53 Likes\n",
      "34 Likes\n",
      "137 Likes\n",
      "225 Likes\n",
      "7122 Likes\n",
      "67 Likes\n",
      "72 Likes\n",
      "48 Likes\n",
      "233 Likes\n",
      "\n",
      "Number of likes of the top 10 posts of foodelhi :\n",
      "1546 Likes\n",
      "53647 Likes\n",
      "2099 Likes\n",
      "1 Likes\n",
      "1234 Likes\n",
      "1 Likes\n",
      "1 Likes\n",
      "1454 Likes\n",
      "1339 Likes\n",
      "1 Likes\n",
      "\n"
     ]
    }
   ],
   "source": [
    "#dct will store username with list of likes\n",
    "dct = {}\n",
    "for user in handles : \n",
    "    likes = get_likes(user)\n",
    "    dct[user] = likes\n",
    "    print('Number of likes of the top 10 posts of',user,':')\n",
    "    for i in likes :\n",
    "        print(i,'Likes')\n",
    "    print()"
   ]
  },
  {
   "cell_type": "markdown",
   "id": "2cb74b8c",
   "metadata": {},
   "source": [
    "##### 2. Calculate the average likes for a handle."
   ]
  },
  {
   "cell_type": "code",
   "execution_count": 27,
   "id": "874b84cd",
   "metadata": {},
   "outputs": [],
   "source": [
    "#This function will return a dictionary of {'username':average like}\n",
    "def get_avg_likes(d):\n",
    "    avg_likes = {}\n",
    "    for key,val in d.items():\n",
    "        avg = sum(val) // 10\n",
    "        avg_likes[key] = avg\n",
    "    return avg_likes"
   ]
  },
  {
   "cell_type": "code",
   "execution_count": 28,
   "id": "9602634e",
   "metadata": {},
   "outputs": [
    {
     "name": "stdout",
     "output_type": "stream",
     "text": [
      "Average likes for each handle are :\n",
      "foodklick : 27628\n",
      "foodiesince96 : 1\n",
      "foodtalkindia : 803\n",
      "food : 803\n",
      "foodelhi : 6132\n"
     ]
    }
   ],
   "source": [
    "avg_likes = get_avg_likes(dct)\n",
    "\n",
    "print('Average likes for each handle are :')\n",
    "for user,likes in avg_likes.items():\n",
    "    print(user, ':', likes)"
   ]
  },
  {
   "cell_type": "markdown",
   "id": "4eb7148c",
   "metadata": {},
   "source": [
    "##### 3. Divide the average likes obtained from the number of followers of the handle to get the average followers:like ratio of each handle."
   ]
  },
  {
   "cell_type": "code",
   "execution_count": 29,
   "id": "a860cb5a",
   "metadata": {},
   "outputs": [],
   "source": [
    "def average_to_like_ratio(top_handle,avg_likes,user):\n",
    "    follow_like = {}\n",
    "    for i in range(5):\n",
    "        follow_like[user[i]] = top_handle[user[i]]//avg_likes[user[i]]\n",
    "    return follow_like"
   ]
  },
  {
   "cell_type": "code",
   "execution_count": 30,
   "id": "d7fb143d",
   "metadata": {},
   "outputs": [
    {
     "name": "stdout",
     "output_type": "stream",
     "text": [
      "Average followers:like ratio of each handle :\n",
      "foodklick : 13\n",
      "foodiesince96 : 339092\n",
      "foodtalkindia : 384\n",
      "food : 384\n",
      "foodelhi : 41\n"
     ]
    }
   ],
   "source": [
    "#using the value from top_handle from (problem 1.1) which contains a dictionary of {'username':followers} which is top_handles\n",
    "#extracing username from top_handles\n",
    "top_handles_names = list(top_handle.keys())\n",
    "#now calling above function  \n",
    "avg_fol_like_ratio = average_to_like_ratio(top_handle, avg_likes, top_handles_names)\n",
    "print('Average followers:like ratio of each handle :')\n",
    "for user,ratio in avg_fol_like_ratio.items():\n",
    "    print(user, ':', ratio)"
   ]
  },
  {
   "cell_type": "markdown",
   "id": "c554b041",
   "metadata": {},
   "source": [
    "##### 4. Create a bar graph to depict the above obtained information."
   ]
  },
  {
   "cell_type": "code",
   "execution_count": 31,
   "id": "2e7a0218",
   "metadata": {
    "scrolled": false
   },
   "outputs": [
    {
     "data": {
      "image/png": "[encoded data removed]",
      "text/plain": [
       "<Figure size 1200x800 with 1 Axes>"
      ]
     },
     "metadata": {},
     "output_type": "display_data"
    }
   ],
   "source": [
    "#Plotting Bar Graph for average likes of each handle\n",
    "#using the average likes for a handle data.\n",
    "username = list(avg_likes.keys())\n",
    "avg_like = list(avg_likes.values())\n",
    "plt.figure(figsize=(12, 8))  # width=12 inches, height=8 inches\n",
    "plt.bar(username,avg_like,color='g',alpha=0.6)\n",
    "plt.ylabel(\"Average Likes\",size=10)\n",
    "plt.xlabel(\"Handle's Name\",size=10)\n",
    "plt.xticks(fontsize=7)  # Decrease font size of x-axis labels\n",
    "plt.title('Average like for each handle ',fontsize=20, color='green',alpha=0.8)\n",
    "plt.grid()\n",
    "plt.show()"
   ]
  },
  {
   "cell_type": "code",
   "execution_count": 32,
   "id": "db38199d",
   "metadata": {},
   "outputs": [
    {
     "data": {
      "image/png": "[encoded data removed]",
      "text/plain": [
       "<Figure size 1200x800 with 1 Axes>"
      ]
     },
     "metadata": {},
     "output_type": "display_data"
    }
   ],
   "source": [
    "# Plotting Bar Graph for average followers:like ratio of each handle\n",
    "#using average likes obtained from the number of followers of the handle to get the average followers:like ratio of each handle.\n",
    "username = list(avg_fol_like_ratio.keys())\n",
    "avg_like = list(avg_fol_like_ratio.values())\n",
    "plt.figure(figsize=(12, 8))  # width=12 inches, height=8 inches\n",
    "plt.bar(username,avg_like,color='Indigo',alpha=0.6)\n",
    "plt.ylabel(\"Average Followers:Like Ratio\",size=12)\n",
    "plt.xlabel(\"Handle's Name\",size=12)\n",
    "plt.title('Average Followers:Like Ratio of Each Handle ',fontsize=20, color='Indigo',alpha=0.8)\n",
    "plt.xticks(fontsize = 15)\n",
    "plt.grid()\n",
    "plt.show()"
   ]
  }
 ],
 "metadata": {
  "kernelspec": {
   "display_name": "Python 3 (ipykernel)",
   "language": "python",
   "name": "python3"
  },
  "language_info": {
   "codemirror_mode": {
    "name": "ipython",
    "version": 3
   },
   "file_extension": ".py",
   "mimetype": "text/x-python",
   "name": "python",
   "nbconvert_exporter": "python",
   "pygments_lexer": "ipython3",
   "version": "3.10.2"
  }
 },
 "nbformat": 4,
 "nbformat_minor": 5
}
