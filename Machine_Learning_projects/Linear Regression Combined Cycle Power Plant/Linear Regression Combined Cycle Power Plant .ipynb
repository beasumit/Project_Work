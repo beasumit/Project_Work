{
 "cells": [
  {
   "cell_type": "code",
   "execution_count": 1,
   "id": "f0c3e65a",
   "metadata": {},
   "outputs": [],
   "source": [
    "import numpy as np\n",
    "import pandas as pd\n",
    "from sklearn.preprocessing import StandardScaler"
   ]
  },
  {
   "cell_type": "code",
   "execution_count": 2,
   "id": "481f5b2e",
   "metadata": {},
   "outputs": [],
   "source": [
    "train_data = np.genfromtxt(r\"C:\\Users\\bensu\\Downloads\\0000000000002419_training_ccpp_x_y_train.csv\",delimiter = ',')\n",
    "x_test = np.genfromtxt(r\"C:\\Users\\bensu\\Downloads\\0000000000002419_test_ccpp_x_test.csv\",delimiter = ',')"
   ]
  },
  {
   "cell_type": "code",
   "execution_count": 3,
   "id": "574c82ab",
   "metadata": {},
   "outputs": [
    {
     "data": {
      "text/plain": [
       "((7176, 4), (7176,))"
      ]
     },
     "execution_count": 3,
     "metadata": {},
     "output_type": "execute_result"
    }
   ],
   "source": [
    "x_train = train_data[:,:-1]\n",
    "y_train = train_data[:,-1]\n",
    "x_train.shape,y_train.shape"
   ]
  },
  {
   "cell_type": "code",
   "execution_count": 4,
   "id": "e6108fd4",
   "metadata": {},
   "outputs": [],
   "source": [
    "#creating dummy data for train_data\n",
    "df = pd.DataFrame(x_train)\n",
    "N = x_train.shape[1]\n",
    "count = 1\n",
    "\n",
    "for i in range(N):\n",
    "    for j in range(i,N):\n",
    "        df[count] = df[df.columns[i]]*df[df.columns[j]]\n",
    "        count += 1\n",
    "        \n",
    "for i in range(N):\n",
    "    for j in range(i,N):\n",
    "        for k in range(j,N):\n",
    "            df[count] = df[df.columns[i]]*df[df.columns[j]]*df[df.columns[k]]\n",
    "            count += 1\n",
    "x_train = df.values\n",
    "\n",
    "#creating dummy data for x_test\n",
    "\n",
    "df = pd.DataFrame(x_test)\n",
    "N = x_test.shape[1]\n",
    "count = 1\n",
    "\n",
    "for i in range(N):\n",
    "    for j in range(i,N):\n",
    "        df[count] = df[df.columns[i]]*df[df.columns[j]]\n",
    "        count += 1\n",
    "        \n",
    "for i in range(N):\n",
    "    for j in range(i,N):\n",
    "        for k in range(j,N):\n",
    "            df[count] = df[df.columns[i]]*df[df.columns[j]]*df[df.columns[k]]\n",
    "            count += 1\n",
    "            \n",
    "x_test = df.values"
   ]
  },
  {
   "cell_type": "code",
   "execution_count": 5,
   "id": "0ede6a3f",
   "metadata": {},
   "outputs": [],
   "source": [
    "#using the inbuilt scallng option\n",
    "\n",
    "\n",
    "scaler = StandardScaler()\n",
    "scaler.fit(x_train)\n",
    "x_train = scaler.transform(x_train)\n",
    "x_test = scaler.transform(x_test)"
   ]
  },
  {
   "cell_type": "code",
   "execution_count": 15,
   "id": "dca9c98e",
   "metadata": {},
   "outputs": [],
   "source": [
    "#creating gradient descent for N features\n",
    "def run(x,y):\n",
    "    df = pd.DataFrame(x)\n",
    "    df[x.shape[1]]=1\n",
    "    x = df.values\n",
    "    learning_rate = 0.009\n",
    "    num_iteration = 1000\n",
    "    m = gd(x,y,learning_rate,num_iteration)\n",
    "    return m"
   ]
  },
  {
   "cell_type": "code",
   "execution_count": 16,
   "id": "2b3f2f86",
   "metadata": {},
   "outputs": [],
   "source": [
    "def gd(x,y,learning_rate,num_iteration):\n",
    "    m = np.zeros(x.shape[1])\n",
    "    for i in range(num_iteration):\n",
    "        m = step_gradient(x,y,learning_rate,m)\n",
    "    return m"
   ]
  },
  {
   "cell_type": "code",
   "execution_count": 17,
   "id": "3d77d7ce",
   "metadata": {},
   "outputs": [],
   "source": [
    "def step_gradient(x,y,learning_rate,m):\n",
    "    N = x.shape[0]\n",
    "    m_slope = (-2/N)*(((y-(m*x).sum(axis =1)).reshape(-1,1))*x).sum(axis = 0)\n",
    "    m = m-learning_rate*m_slope\n",
    "    return m"
   ]
  },
  {
   "cell_type": "code",
   "execution_count": 18,
   "id": "77920409",
   "metadata": {},
   "outputs": [],
   "source": [
    "def cost(x,y,m):\n",
    "    return ((y-(m*x).sum(axis = 1))**2).mean()"
   ]
  },
  {
   "cell_type": "code",
   "execution_count": 19,
   "id": "695a2b32",
   "metadata": {},
   "outputs": [],
   "source": [
    "def predict(m,x):\n",
    "    return (m*x).sum(axis = 1)"
   ]
  },
  {
   "cell_type": "code",
   "execution_count": 20,
   "id": "22ab8f94",
   "metadata": {},
   "outputs": [],
   "source": [
    "m = run(x_train,y_train)"
   ]
  },
  {
   "cell_type": "code",
   "execution_count": 21,
   "id": "83d33c55",
   "metadata": {},
   "outputs": [
    {
     "name": "stdout",
     "output_type": "stream",
     "text": [
      "[-1.07124629e+01 -6.11060503e+00 -2.81486494e+00 -7.32120739e-01\n",
      "  4.15919256e-01 -7.32120739e-01  4.15919256e-01  8.96906596e-01\n",
      "  8.96906596e-01  9.21618830e-01  6.44791462e-01 -2.81486494e+00\n",
      " -7.32120739e-01  4.15919256e-01  8.96906596e-01  4.15919256e-01\n",
      "  8.96906596e-01  9.21618830e-01  9.21618830e-01  6.44791462e-01\n",
      "  1.76802968e-01  8.96906596e-01  9.21618830e-01  6.44791462e-01\n",
      "  6.44791462e-01  1.76802968e-01 -4.04637653e-01  1.76802968e-01\n",
      " -4.04637653e-01 -1.04527032e+00 -1.70754204e+00  4.54431287e+02]\n"
     ]
    }
   ],
   "source": [
    "print(m)"
   ]
  },
  {
   "cell_type": "code",
   "execution_count": 22,
   "id": "c5a38c34",
   "metadata": {},
   "outputs": [],
   "source": [
    "df= pd.DataFrame(x_test)\n",
    "df[x_test.shape[1]]=1\n",
    "x_test = df.values"
   ]
  },
  {
   "cell_type": "code",
   "execution_count": 24,
   "id": "e81aeceb",
   "metadata": {},
   "outputs": [],
   "source": [
    "y_pred = predict(m,x_test)"
   ]
  },
  {
   "cell_type": "code",
   "execution_count": 25,
   "id": "39a7c64b",
   "metadata": {},
   "outputs": [
    {
     "name": "stdout",
     "output_type": "stream",
     "text": [
      "[472.12824565 471.8653367  437.29587881 ... 442.16642059 444.00820369\n",
      " 448.1320055 ]\n"
     ]
    }
   ],
   "source": [
    "print(y_pred)"
   ]
  },
  {
   "cell_type": "code",
   "execution_count": 26,
   "id": "b34698dd",
   "metadata": {},
   "outputs": [],
   "source": [
    "np.savetxt(r\"prediction_of_x_test_ccp.csv\",y_pred,delimiter=',')"
   ]
  }
 ],
 "metadata": {
  "kernelspec": {
   "display_name": "Python 3 (ipykernel)",
   "language": "python",
   "name": "python3"
  },
  "language_info": {
   "codemirror_mode": {
    "name": "ipython",
    "version": 3
   },
   "file_extension": ".py",
   "mimetype": "text/x-python",
   "name": "python",
   "nbconvert_exporter": "python",
   "pygments_lexer": "ipython3",
   "version": "3.10.2"
  }
 },
 "nbformat": 4,
 "nbformat_minor": 5
}
